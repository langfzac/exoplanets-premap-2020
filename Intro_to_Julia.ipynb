{
 "cells": [
  {
   "cell_type": "markdown",
   "metadata": {},
   "source": [
    "# Intro to Julia"
   ]
  },
  {
   "cell_type": "markdown",
   "metadata": {},
   "source": [
    "## Basics\n",
    "\n",
    "#### Numbers\n",
    "These behave as expected."
   ]
  },
  {
   "cell_type": "code",
   "execution_count": 77,
   "metadata": {},
   "outputs": [
    {
     "data": {
      "text/plain": [
       "2.0"
      ]
     },
     "execution_count": 77,
     "metadata": {},
     "output_type": "execute_result"
    }
   ],
   "source": [
    "# Integers and floats\n",
    "x = 1.0\n",
    "y = 1\n",
    "\n",
    "x + y # y gets 'promoted' to a float before being added to x"
   ]
  },
  {
   "cell_type": "markdown",
   "metadata": {},
   "source": [
    "You can even do rational numbers"
   ]
  },
  {
   "cell_type": "code",
   "execution_count": 78,
   "metadata": {},
   "outputs": [
    {
     "data": {
      "text/plain": [
       "1//6"
      ]
     },
     "execution_count": 78,
     "metadata": {},
     "output_type": "execute_result"
    }
   ],
   "source": [
    "r = 1//2\n",
    "o = 1//3\n",
    "\n",
    "r * o"
   ]
  },
  {
   "cell_type": "markdown",
   "metadata": {},
   "source": [
    "#### Vectors\n",
    "Here's how to construct some vectors"
   ]
  },
  {
   "cell_type": "code",
   "execution_count": 79,
   "metadata": {},
   "outputs": [
    {
     "data": {
      "text/plain": [
       "3-element Array{Int64,1}:\n",
       " 1\n",
       " 2\n",
       " 3"
      ]
     },
     "execution_count": 79,
     "metadata": {},
     "output_type": "execute_result"
    }
   ],
   "source": [
    "v = [1,2,3]"
   ]
  },
  {
   "cell_type": "code",
   "execution_count": 80,
   "metadata": {},
   "outputs": [
    {
     "data": {
      "text/plain": [
       "10-element Array{Int64,1}:\n",
       "  1\n",
       "  2\n",
       "  3\n",
       "  4\n",
       "  5\n",
       "  6\n",
       "  7\n",
       "  8\n",
       "  9\n",
       " 10"
      ]
     },
     "execution_count": 80,
     "metadata": {},
     "output_type": "execute_result"
    }
   ],
   "source": [
    "# Collect numbers from 1 to 10 (using 1 as the default step size)\n",
    "v = collect(1:10)"
   ]
  },
  {
   "cell_type": "markdown",
   "metadata": {},
   "source": [
    "Some things work as expected. Such as adding two vectors. Let's make the set of 3D unit vectors"
   ]
  },
  {
   "cell_type": "code",
   "execution_count": 90,
   "metadata": {},
   "outputs": [],
   "source": [
    "x̂ = [1.0,0.0,0.0]\n",
    "ŷ = [0.0,1.0,0.0]\n",
    "ẑ = [0.0,0.0,1.0];"
   ]
  },
  {
   "cell_type": "code",
   "execution_count": 91,
   "metadata": {},
   "outputs": [
    {
     "data": {
      "text/plain": [
       "3-element Array{Float64,1}:\n",
       " 1.0\n",
       " 1.0\n",
       " 0.0"
      ]
     },
     "execution_count": 91,
     "metadata": {},
     "output_type": "execute_result"
    }
   ],
   "source": [
    "x̂ + ŷ"
   ]
  },
  {
   "cell_type": "markdown",
   "metadata": {},
   "source": [
    "What happens here?"
   ]
  },
  {
   "cell_type": "code",
   "execution_count": 92,
   "metadata": {},
   "outputs": [
    {
     "ename": "LoadError",
     "evalue": "MethodError: no method matching *(::Array{Float64,1}, ::Array{Float64,1})\nClosest candidates are:\n  *(::Any, ::Any, !Matched::Any, !Matched::Any...) at operators.jl:538\n  *(!Matched::Adjoint{var\"#s828\",var\"#s8281\"} where var\"#s8281\"<:(AbstractArray{T,1} where T) where var\"#s828\"<:Number, ::AbstractArray{var\"#s827\",1} where var\"#s827\"<:Number) at /Users/julia/buildbot/worker/package_macos64/build/usr/share/julia/stdlib/v1.5/LinearAlgebra/src/adjtrans.jl:283\n  *(!Matched::Transpose{T,var\"#s828\"} where var\"#s828\"<:(AbstractArray{T,1} where T), ::AbstractArray{T,1}) where T<:Real at /Users/julia/buildbot/worker/package_macos64/build/usr/share/julia/stdlib/v1.5/LinearAlgebra/src/adjtrans.jl:284\n  ...",
     "output_type": "error",
     "traceback": [
      "MethodError: no method matching *(::Array{Float64,1}, ::Array{Float64,1})\nClosest candidates are:\n  *(::Any, ::Any, !Matched::Any, !Matched::Any...) at operators.jl:538\n  *(!Matched::Adjoint{var\"#s828\",var\"#s8281\"} where var\"#s8281\"<:(AbstractArray{T,1} where T) where var\"#s828\"<:Number, ::AbstractArray{var\"#s827\",1} where var\"#s827\"<:Number) at /Users/julia/buildbot/worker/package_macos64/build/usr/share/julia/stdlib/v1.5/LinearAlgebra/src/adjtrans.jl:283\n  *(!Matched::Transpose{T,var\"#s828\"} where var\"#s828\"<:(AbstractArray{T,1} where T), ::AbstractArray{T,1}) where T<:Real at /Users/julia/buildbot/worker/package_macos64/build/usr/share/julia/stdlib/v1.5/LinearAlgebra/src/adjtrans.jl:284\n  ...",
      "",
      "Stacktrace:",
      " [1] top-level scope at In[92]:1",
      " [2] include_string(::Function, ::Module, ::String, ::String) at ./loading.jl:1091",
      " [3] execute_code(::String, ::String) at /Users/langfzac/.julia/packages/IJulia/a1SNk/src/execute_request.jl:27",
      " [4] execute_request(::ZMQ.Socket, ::IJulia.Msg) at /Users/langfzac/.julia/packages/IJulia/a1SNk/src/execute_request.jl:86",
      " [5] #invokelatest#1 at ./essentials.jl:710 [inlined]",
      " [6] invokelatest at ./essentials.jl:709 [inlined]",
      " [7] eventloop(::ZMQ.Socket) at /Users/langfzac/.julia/packages/IJulia/a1SNk/src/eventloop.jl:8",
      " [8] (::IJulia.var\"#15#18\")() at ./task.jl:356"
     ]
    }
   ],
   "source": [
    "x̂ * ŷ"
   ]
  },
  {
   "cell_type": "markdown",
   "metadata": {},
   "source": [
    "Since there are a number of ways to define multiplication of two vectors, we need to be more specific. Let's use the `LinearAlgebra` package. It holds functions to do $v_1 \\cdot v_2$ and $v_1 \\times v_2$."
   ]
  },
  {
   "cell_type": "code",
   "execution_count": 93,
   "metadata": {},
   "outputs": [],
   "source": [
    "using LinearAlgebra"
   ]
  },
  {
   "cell_type": "code",
   "execution_count": 94,
   "metadata": {},
   "outputs": [
    {
     "data": {
      "text/plain": [
       "0.0"
      ]
     },
     "execution_count": 94,
     "metadata": {},
     "output_type": "execute_result"
    }
   ],
   "source": [
    "dot(x̂,ŷ)"
   ]
  },
  {
   "cell_type": "code",
   "execution_count": 95,
   "metadata": {},
   "outputs": [
    {
     "data": {
      "text/plain": [
       "3-element Array{Float64,1}:\n",
       " 0.0\n",
       " 0.0\n",
       " 1.0"
      ]
     },
     "execution_count": 95,
     "metadata": {},
     "output_type": "execute_result"
    }
   ],
   "source": [
    "cross(x̂,ŷ)"
   ]
  },
  {
   "cell_type": "markdown",
   "metadata": {},
   "source": [
    "Here, Julia is smart enough to know what we mean: $4\\hat{x}$"
   ]
  },
  {
   "cell_type": "code",
   "execution_count": 96,
   "metadata": {},
   "outputs": [
    {
     "data": {
      "text/plain": [
       "3-element Array{Float64,1}:\n",
       " 4.0\n",
       " 0.0\n",
       " 0.0"
      ]
     },
     "execution_count": 96,
     "metadata": {},
     "output_type": "execute_result"
    }
   ],
   "source": [
    "4 * x̂"
   ]
  },
  {
   "cell_type": "markdown",
   "metadata": {},
   "source": [
    "But here, we run into the same problem as before. Are we doing a dot product? Cross?"
   ]
  },
  {
   "cell_type": "code",
   "execution_count": 97,
   "metadata": {},
   "outputs": [
    {
     "ename": "LoadError",
     "evalue": "MethodError: no method matching *(::Array{Int64,1}, ::Array{Float64,1})\nClosest candidates are:\n  *(::Any, ::Any, !Matched::Any, !Matched::Any...) at operators.jl:538\n  *(!Matched::Adjoint{var\"#s828\",var\"#s8281\"} where var\"#s8281\"<:(AbstractArray{T,1} where T) where var\"#s828\"<:Number, ::AbstractArray{var\"#s827\",1} where var\"#s827\"<:Number) at /Users/julia/buildbot/worker/package_macos64/build/usr/share/julia/stdlib/v1.5/LinearAlgebra/src/adjtrans.jl:283\n  *(!Matched::Transpose{T,var\"#s828\"} where var\"#s828\"<:(AbstractArray{T,1} where T), ::AbstractArray{T,1}) where T<:Real at /Users/julia/buildbot/worker/package_macos64/build/usr/share/julia/stdlib/v1.5/LinearAlgebra/src/adjtrans.jl:284\n  ...",
     "output_type": "error",
     "traceback": [
      "MethodError: no method matching *(::Array{Int64,1}, ::Array{Float64,1})\nClosest candidates are:\n  *(::Any, ::Any, !Matched::Any, !Matched::Any...) at operators.jl:538\n  *(!Matched::Adjoint{var\"#s828\",var\"#s8281\"} where var\"#s8281\"<:(AbstractArray{T,1} where T) where var\"#s828\"<:Number, ::AbstractArray{var\"#s827\",1} where var\"#s827\"<:Number) at /Users/julia/buildbot/worker/package_macos64/build/usr/share/julia/stdlib/v1.5/LinearAlgebra/src/adjtrans.jl:283\n  *(!Matched::Transpose{T,var\"#s828\"} where var\"#s828\"<:(AbstractArray{T,1} where T), ::AbstractArray{T,1}) where T<:Real at /Users/julia/buildbot/worker/package_macos64/build/usr/share/julia/stdlib/v1.5/LinearAlgebra/src/adjtrans.jl:284\n  ...",
      "",
      "Stacktrace:",
      " [1] top-level scope at In[97]:1",
      " [2] include_string(::Function, ::Module, ::String, ::String) at ./loading.jl:1091",
      " [3] execute_code(::String, ::String) at /Users/langfzac/.julia/packages/IJulia/a1SNk/src/execute_request.jl:27",
      " [4] execute_request(::ZMQ.Socket, ::IJulia.Msg) at /Users/langfzac/.julia/packages/IJulia/a1SNk/src/execute_request.jl:86",
      " [5] #invokelatest#1 at ./essentials.jl:710 [inlined]",
      " [6] invokelatest at ./essentials.jl:709 [inlined]",
      " [7] eventloop(::ZMQ.Socket) at /Users/langfzac/.julia/packages/IJulia/a1SNk/src/eventloop.jl:8",
      " [8] (::IJulia.var\"#15#18\")() at ./task.jl:356"
     ]
    }
   ],
   "source": [
    "[4,5,3] * x̂"
   ]
  },
  {
   "cell_type": "markdown",
   "metadata": {},
   "source": [
    "A common operation we want to compute is the addition/multiplication of each element in a vector by each element in another vector. To do this we use the `.` operator."
   ]
  },
  {
   "cell_type": "code",
   "execution_count": 98,
   "metadata": {},
   "outputs": [
    {
     "data": {
      "text/plain": [
       "3-element Array{Float64,1}:\n",
       " 4.0\n",
       " 0.0\n",
       " 0.0"
      ]
     },
     "execution_count": 98,
     "metadata": {},
     "output_type": "execute_result"
    }
   ],
   "source": [
    "[4,5,3] .* x̂"
   ]
  },
  {
   "cell_type": "code",
   "execution_count": 100,
   "metadata": {},
   "outputs": [
    {
     "data": {
      "text/plain": [
       "3-element Array{Float64,1}:\n",
       " 5.0\n",
       " 5.0\n",
       " 3.0"
      ]
     },
     "execution_count": 100,
     "metadata": {},
     "output_type": "execute_result"
    }
   ],
   "source": [
    "[4,5,3] .+ x̂"
   ]
  },
  {
   "cell_type": "markdown",
   "metadata": {},
   "source": [
    "#### Matrices\n",
    "We can also construct matrices"
   ]
  },
  {
   "cell_type": "code",
   "execution_count": 101,
   "metadata": {},
   "outputs": [
    {
     "data": {
      "text/plain": [
       "2×2 Array{Int64,2}:\n",
       " 1  2\n",
       " 3  4"
      ]
     },
     "execution_count": 101,
     "metadata": {},
     "output_type": "execute_result"
    }
   ],
   "source": [
    "A = [1 2; \n",
    "     3 4]"
   ]
  },
  {
   "cell_type": "code",
   "execution_count": 102,
   "metadata": {},
   "outputs": [
    {
     "data": {
      "text/plain": [
       "3×3 Array{Float64,2}:\n",
       " 0.0  0.0  0.0\n",
       " 0.0  0.0  0.0\n",
       " 0.0  0.0  0.0"
      ]
     },
     "execution_count": 102,
     "metadata": {},
     "output_type": "execute_result"
    }
   ],
   "source": [
    "B = zeros(3,3)"
   ]
  },
  {
   "cell_type": "markdown",
   "metadata": {},
   "source": [
    "And index into them, using the (row,column) convention"
   ]
  },
  {
   "cell_type": "code",
   "execution_count": 41,
   "metadata": {},
   "outputs": [
    {
     "data": {
      "text/plain": [
       "3"
      ]
     },
     "execution_count": 41,
     "metadata": {},
     "output_type": "execute_result"
    }
   ],
   "source": [
    "A[2,1]"
   ]
  },
  {
   "cell_type": "markdown",
   "metadata": {},
   "source": [
    "You can also access it using only one index. This treats the matrix as a vector -- taking each column and attaching it to the bottom of the previous column. So, the indices of a 3x3 matrix M would be:\n",
    "\n",
    "$$M_{indices} = \\begin{pmatrix}\n",
    "1 & 4 & 7\\\\\n",
    "2 & 5 & 8\\\\\n",
    "3 & 6 & 9\\\\\n",
    "\\end{pmatrix}$$"
   ]
  },
  {
   "cell_type": "code",
   "execution_count": 106,
   "metadata": {},
   "outputs": [
    {
     "data": {
      "text/plain": [
       "(1, 3, 2, 4)"
      ]
     },
     "execution_count": 106,
     "metadata": {},
     "output_type": "execute_result"
    }
   ],
   "source": [
    "A[1], A[2], A[3], A[4]"
   ]
  },
  {
   "cell_type": "markdown",
   "metadata": {},
   "source": [
    "#### Functions\n",
    "We want to write most of our Julia code in functions. This let's the compiler optimize our code.\n",
    "\n",
    "Again, this will do what we expect."
   ]
  },
  {
   "cell_type": "code",
   "execution_count": 110,
   "metadata": {},
   "outputs": [
    {
     "data": {
      "text/plain": [
       "f (generic function with 2 methods)"
      ]
     },
     "execution_count": 110,
     "metadata": {},
     "output_type": "execute_result"
    }
   ],
   "source": [
    "function f(x)\n",
    "    y = x + 1\n",
    "    return y\n",
    "end"
   ]
  },
  {
   "cell_type": "code",
   "execution_count": 111,
   "metadata": {},
   "outputs": [
    {
     "data": {
      "text/plain": [
       "3"
      ]
     },
     "execution_count": 111,
     "metadata": {},
     "output_type": "execute_result"
    }
   ],
   "source": [
    "f(2)"
   ]
  },
  {
   "cell_type": "markdown",
   "metadata": {},
   "source": [
    "We can also define a function with the same name, using different arguments"
   ]
  },
  {
   "cell_type": "code",
   "execution_count": 113,
   "metadata": {},
   "outputs": [
    {
     "data": {
      "text/plain": [
       "f (generic function with 2 methods)"
      ]
     },
     "execution_count": 113,
     "metadata": {},
     "output_type": "execute_result"
    }
   ],
   "source": [
    "function f(x,y)\n",
    "    z = x + y + 1\n",
    "    return z\n",
    "end"
   ]
  },
  {
   "cell_type": "code",
   "execution_count": 114,
   "metadata": {},
   "outputs": [
    {
     "data": {
      "text/plain": [
       "4"
      ]
     },
     "execution_count": 114,
     "metadata": {},
     "output_type": "execute_result"
    }
   ],
   "source": [
    "f(1,2)"
   ]
  },
  {
   "cell_type": "markdown",
   "metadata": {},
   "source": [
    "Remember, if we want to do operations with vectors, we need the `.` operator."
   ]
  },
  {
   "cell_type": "code",
   "execution_count": 115,
   "metadata": {},
   "outputs": [
    {
     "data": {
      "text/plain": [
       "g (generic function with 1 method)"
      ]
     },
     "execution_count": 115,
     "metadata": {},
     "output_type": "execute_result"
    }
   ],
   "source": [
    "function g(x)\n",
    "    y = x .+ 1\n",
    "    return y\n",
    "end"
   ]
  },
  {
   "cell_type": "code",
   "execution_count": 116,
   "metadata": {},
   "outputs": [
    {
     "data": {
      "text/plain": [
       "3-element Array{Float64,1}:\n",
       " 2.0\n",
       " 1.0\n",
       " 1.0"
      ]
     },
     "execution_count": 116,
     "metadata": {},
     "output_type": "execute_result"
    }
   ],
   "source": [
    "g(x̂)"
   ]
  },
  {
   "cell_type": "markdown",
   "metadata": {},
   "source": [
    "Julia uses 'pass-by-sharing' for function. All this means is that if you give a function an array (or matrix, etc.) and it is modified inside of the function, it remains modified after the function is called. Let's look at an example. Here we're defining a function that takes an array, adds one to each element of that array, and saves it back into the original array. ($\\bf{Note}$: When writing functions that modify the arguments, the convention is to place an '!' after the name.)"
   ]
  },
  {
   "cell_type": "code",
   "execution_count": 117,
   "metadata": {},
   "outputs": [
    {
     "data": {
      "text/plain": [
       "g! (generic function with 1 method)"
      ]
     },
     "execution_count": 117,
     "metadata": {},
     "output_type": "execute_result"
    }
   ],
   "source": [
    "function g!(x)\n",
    "    x .= x .+ 1\n",
    "    return\n",
    "end"
   ]
  },
  {
   "cell_type": "code",
   "execution_count": 118,
   "metadata": {},
   "outputs": [
    {
     "data": {
      "text/plain": [
       "3-element Array{Float64,1}:\n",
       " 2.0\n",
       " 3.0\n",
       " 4.0"
      ]
     },
     "execution_count": 118,
     "metadata": {},
     "output_type": "execute_result"
    }
   ],
   "source": [
    "v = [1.0,2.0,3.0]\n",
    "g!(v)\n",
    "v"
   ]
  },
  {
   "cell_type": "markdown",
   "metadata": {},
   "source": [
    "The important thing here is that the `v` is no longer what we originally defined it as. It was modified inside the `g!`."
   ]
  },
  {
   "cell_type": "markdown",
   "metadata": {},
   "source": [
    "## Packages\n",
    "We can add packages inside our Jupyter notebooks -- just like on the command line. Let's add the plots package."
   ]
  },
  {
   "cell_type": "code",
   "execution_count": 119,
   "metadata": {},
   "outputs": [],
   "source": [
    "using Pkg"
   ]
  },
  {
   "cell_type": "code",
   "execution_count": 120,
   "metadata": {},
   "outputs": [
    {
     "name": "stderr",
     "output_type": "stream",
     "text": [
      "\u001b[32m\u001b[1m  Resolving\u001b[22m\u001b[39m package versions...\n",
      "\u001b[32m\u001b[1mNo Changes\u001b[22m\u001b[39m to `~/.julia/environments/v1.5/Project.toml`\n",
      "\u001b[32m\u001b[1mNo Changes\u001b[22m\u001b[39m to `~/.julia/environments/v1.5/Manifest.toml`\n"
     ]
    }
   ],
   "source": [
    "Pkg.add(\"Plots\")"
   ]
  },
  {
   "cell_type": "code",
   "execution_count": 121,
   "metadata": {},
   "outputs": [],
   "source": [
    "using Plots"
   ]
  },
  {
   "cell_type": "markdown",
   "metadata": {},
   "source": [
    "## Plotting\n",
    "Now that we know how to make arrays of data and functions to operate on them, let's make some plots! First, let's define a line in function notation. This an another way of defining functions in Julia"
   ]
  },
  {
   "cell_type": "code",
   "execution_count": 122,
   "metadata": {},
   "outputs": [
    {
     "data": {
      "text/plain": [
       "f (generic function with 2 methods)"
      ]
     },
     "execution_count": 122,
     "metadata": {},
     "output_type": "execute_result"
    }
   ],
   "source": [
    "f(x) = 3 * x + 2"
   ]
  },
  {
   "cell_type": "markdown",
   "metadata": {},
   "source": [
    "Now, create a vector of elements 0 to 10 (steping by 1) and pass it to out line function. Notice we use the `.` at the end of the function name. This tells the function that it's getting an array, and to operate on each element of that array seperately, and return an array of the same size."
   ]
  },
  {
   "cell_type": "code",
   "execution_count": 123,
   "metadata": {},
   "outputs": [],
   "source": [
    "x = collect(0:10)\n",
    "y = f.(x);"
   ]
  },
  {
   "cell_type": "markdown",
   "metadata": {},
   "source": [
    "And plot!"
   ]
  },
  {
   "cell_type": "code",
   "execution_count": 124,
   "metadata": {},
   "outputs": [
    {
     "data": {
      "image/svg+xml": [
       "<?xml version=\"1.0\" encoding=\"utf-8\"?>\n",
       "<svg xmlns=\"http://www.w3.org/2000/svg\" xmlns:xlink=\"http://www.w3.org/1999/xlink\" width=\"600\" height=\"400\" viewBox=\"0 0 2400 1600\">\n",
       "<defs>\n",
       "  <clipPath id=\"clip960\">\n",
       "    <rect x=\"0\" y=\"0\" width=\"2400\" height=\"1600\"/>\n",
       "  </clipPath>\n",
       "</defs>\n",
       "<path clip-path=\"url(#clip960)\" d=\"\n",
       "M0 1600 L2400 1600 L2400 0 L0 0  Z\n",
       "  \" fill=\"#ffffff\" fill-rule=\"evenodd\" fill-opacity=\"1\"/>\n",
       "<defs>\n",
       "  <clipPath id=\"clip961\">\n",
       "    <rect x=\"480\" y=\"0\" width=\"1681\" height=\"1600\"/>\n",
       "  </clipPath>\n",
       "</defs>\n",
       "<path clip-path=\"url(#clip960)\" d=\"\n",
       "M136.76 1486.45 L2352.76 1486.45 L2352.76 47.2441 L136.76 47.2441  Z\n",
       "  \" fill=\"#ffffff\" fill-rule=\"evenodd\" fill-opacity=\"1\"/>\n",
       "<defs>\n",
       "  <clipPath id=\"clip962\">\n",
       "    <rect x=\"136\" y=\"47\" width=\"2217\" height=\"1440\"/>\n",
       "  </clipPath>\n",
       "</defs>\n",
       "<polyline clip-path=\"url(#clip962)\" style=\"stroke:#000000; stroke-width:2; stroke-opacity:0.1; fill:none\" points=\"\n",
       "  199.477,1486.45 199.477,47.2441 \n",
       "  \"/>\n",
       "<polyline clip-path=\"url(#clip962)\" style=\"stroke:#000000; stroke-width:2; stroke-opacity:0.1; fill:none\" points=\"\n",
       "  722.118,1486.45 722.118,47.2441 \n",
       "  \"/>\n",
       "<polyline clip-path=\"url(#clip962)\" style=\"stroke:#000000; stroke-width:2; stroke-opacity:0.1; fill:none\" points=\"\n",
       "  1244.76,1486.45 1244.76,47.2441 \n",
       "  \"/>\n",
       "<polyline clip-path=\"url(#clip962)\" style=\"stroke:#000000; stroke-width:2; stroke-opacity:0.1; fill:none\" points=\"\n",
       "  1767.4,1486.45 1767.4,47.2441 \n",
       "  \"/>\n",
       "<polyline clip-path=\"url(#clip962)\" style=\"stroke:#000000; stroke-width:2; stroke-opacity:0.1; fill:none\" points=\"\n",
       "  2290.04,1486.45 2290.04,47.2441 \n",
       "  \"/>\n",
       "<polyline clip-path=\"url(#clip960)\" style=\"stroke:#000000; stroke-width:4; stroke-opacity:1; fill:none\" points=\"\n",
       "  136.76,1486.45 2352.76,1486.45 \n",
       "  \"/>\n",
       "<polyline clip-path=\"url(#clip960)\" style=\"stroke:#000000; stroke-width:4; stroke-opacity:1; fill:none\" points=\"\n",
       "  199.477,1486.45 199.477,1469.18 \n",
       "  \"/>\n",
       "<polyline clip-path=\"url(#clip960)\" style=\"stroke:#000000; stroke-width:4; stroke-opacity:1; fill:none\" points=\"\n",
       "  722.118,1486.45 722.118,1469.18 \n",
       "  \"/>\n",
       "<polyline clip-path=\"url(#clip960)\" style=\"stroke:#000000; stroke-width:4; stroke-opacity:1; fill:none\" points=\"\n",
       "  1244.76,1486.45 1244.76,1469.18 \n",
       "  \"/>\n",
       "<polyline clip-path=\"url(#clip960)\" style=\"stroke:#000000; stroke-width:4; stroke-opacity:1; fill:none\" points=\"\n",
       "  1767.4,1486.45 1767.4,1469.18 \n",
       "  \"/>\n",
       "<polyline clip-path=\"url(#clip960)\" style=\"stroke:#000000; stroke-width:4; stroke-opacity:1; fill:none\" points=\"\n",
       "  2290.04,1486.45 2290.04,1469.18 \n",
       "  \"/>\n",
       "<path clip-path=\"url(#clip960)\" d=\"M 0 0 M180.994 1515.64 Q177.382 1515.64 175.554 1519.2 Q173.748 1522.75 173.748 1529.87 Q173.748 1536.98 175.554 1540.55 Q177.382 1544.09 180.994 1544.09 Q184.628 1544.09 186.433 1540.55 Q188.262 1536.98 188.262 1529.87 Q188.262 1522.75 186.433 1519.2 Q184.628 1515.64 180.994 1515.64 M180.994 1511.93 Q186.804 1511.93 189.859 1516.54 Q192.938 1521.12 192.938 1529.87 Q192.938 1538.6 189.859 1543.21 Q186.804 1547.79 180.994 1547.79 Q175.183 1547.79 172.105 1543.21 Q169.049 1538.6 169.049 1529.87 Q169.049 1521.12 172.105 1516.54 Q175.183 1511.93 180.994 1511.93 Z\" fill=\"#000000\" fill-rule=\"evenodd\" fill-opacity=\"1\" /><path clip-path=\"url(#clip960)\" d=\"M 0 0 M198.007 1541.24 L202.892 1541.24 L202.892 1547.12 L198.007 1547.12 L198.007 1541.24 Z\" fill=\"#000000\" fill-rule=\"evenodd\" fill-opacity=\"1\" /><path clip-path=\"url(#clip960)\" d=\"M 0 0 M217.961 1515.64 Q214.35 1515.64 212.521 1519.2 Q210.716 1522.75 210.716 1529.87 Q210.716 1536.98 212.521 1540.55 Q214.35 1544.09 217.961 1544.09 Q221.595 1544.09 223.401 1540.55 Q225.229 1536.98 225.229 1529.87 Q225.229 1522.75 223.401 1519.2 Q221.595 1515.64 217.961 1515.64 M217.961 1511.93 Q223.771 1511.93 226.827 1516.54 Q229.905 1521.12 229.905 1529.87 Q229.905 1538.6 226.827 1543.21 Q223.771 1547.79 217.961 1547.79 Q212.151 1547.79 209.072 1543.21 Q206.017 1538.6 206.017 1529.87 Q206.017 1521.12 209.072 1516.54 Q212.151 1511.93 217.961 1511.93 Z\" fill=\"#000000\" fill-rule=\"evenodd\" fill-opacity=\"1\" /><path clip-path=\"url(#clip960)\" d=\"M 0 0 M698.784 1543.18 L715.104 1543.18 L715.104 1547.12 L693.16 1547.12 L693.16 1543.18 Q695.822 1540.43 700.405 1535.8 Q705.011 1531.15 706.192 1529.81 Q708.437 1527.28 709.317 1525.55 Q710.22 1523.79 710.22 1522.1 Q710.22 1519.34 708.275 1517.61 Q706.354 1515.87 703.252 1515.87 Q701.053 1515.87 698.599 1516.63 Q696.169 1517.4 693.391 1518.95 L693.391 1514.23 Q696.215 1513.09 698.669 1512.51 Q701.122 1511.93 703.159 1511.93 Q708.53 1511.93 711.724 1514.62 Q714.919 1517.31 714.919 1521.8 Q714.919 1523.93 714.108 1525.85 Q713.321 1527.74 711.215 1530.34 Q710.636 1531.01 707.534 1534.23 Q704.433 1537.42 698.784 1543.18 Z\" fill=\"#000000\" fill-rule=\"evenodd\" fill-opacity=\"1\" /><path clip-path=\"url(#clip960)\" d=\"M 0 0 M720.173 1541.24 L725.057 1541.24 L725.057 1547.12 L720.173 1547.12 L720.173 1541.24 Z\" fill=\"#000000\" fill-rule=\"evenodd\" fill-opacity=\"1\" /><path clip-path=\"url(#clip960)\" d=\"M 0 0 M730.173 1512.56 L748.53 1512.56 L748.53 1516.5 L734.456 1516.5 L734.456 1524.97 Q735.474 1524.62 736.493 1524.46 Q737.511 1524.27 738.53 1524.27 Q744.317 1524.27 747.696 1527.44 Q751.076 1530.62 751.076 1536.03 Q751.076 1541.61 747.604 1544.71 Q744.131 1547.79 737.812 1547.79 Q735.636 1547.79 733.368 1547.42 Q731.122 1547.05 728.715 1546.31 L728.715 1541.61 Q730.798 1542.74 733.02 1543.3 Q735.243 1543.86 737.719 1543.86 Q741.724 1543.86 744.062 1541.75 Q746.4 1539.64 746.4 1536.03 Q746.4 1532.42 744.062 1530.31 Q741.724 1528.21 737.719 1528.21 Q735.844 1528.21 733.969 1528.62 Q732.118 1529.04 730.173 1529.92 L730.173 1512.56 Z\" fill=\"#000000\" fill-rule=\"evenodd\" fill-opacity=\"1\" /><path clip-path=\"url(#clip960)\" d=\"M 0 0 M1216.55 1512.56 L1234.91 1512.56 L1234.91 1516.5 L1220.83 1516.5 L1220.83 1524.97 Q1221.85 1524.62 1222.87 1524.46 Q1223.89 1524.27 1224.91 1524.27 Q1230.7 1524.27 1234.08 1527.44 Q1237.45 1530.62 1237.45 1536.03 Q1237.45 1541.61 1233.98 1544.71 Q1230.51 1547.79 1224.19 1547.79 Q1222.02 1547.79 1219.75 1547.42 Q1217.5 1547.05 1215.09 1546.31 L1215.09 1541.61 Q1217.18 1542.74 1219.4 1543.3 Q1221.62 1543.86 1224.1 1543.86 Q1228.1 1543.86 1230.44 1541.75 Q1232.78 1539.64 1232.78 1536.03 Q1232.78 1532.42 1230.44 1530.31 Q1228.1 1528.21 1224.1 1528.21 Q1222.22 1528.21 1220.35 1528.62 Q1218.5 1529.04 1216.55 1529.92 L1216.55 1512.56 Z\" fill=\"#000000\" fill-rule=\"evenodd\" fill-opacity=\"1\" /><path clip-path=\"url(#clip960)\" d=\"M 0 0 M1242.52 1541.24 L1247.41 1541.24 L1247.41 1547.12 L1242.52 1547.12 L1242.52 1541.24 Z\" fill=\"#000000\" fill-rule=\"evenodd\" fill-opacity=\"1\" /><path clip-path=\"url(#clip960)\" d=\"M 0 0 M1262.48 1515.64 Q1258.87 1515.64 1257.04 1519.2 Q1255.23 1522.75 1255.23 1529.87 Q1255.23 1536.98 1257.04 1540.55 Q1258.87 1544.09 1262.48 1544.09 Q1266.11 1544.09 1267.92 1540.55 Q1269.75 1536.98 1269.75 1529.87 Q1269.75 1522.75 1267.92 1519.2 Q1266.11 1515.64 1262.48 1515.64 M1262.48 1511.93 Q1268.29 1511.93 1271.34 1516.54 Q1274.42 1521.12 1274.42 1529.87 Q1274.42 1538.6 1271.34 1543.21 Q1268.29 1547.79 1262.48 1547.79 Q1256.67 1547.79 1253.59 1543.21 Q1250.53 1538.6 1250.53 1529.87 Q1250.53 1521.12 1253.59 1516.54 Q1256.67 1511.93 1262.48 1511.93 Z\" fill=\"#000000\" fill-rule=\"evenodd\" fill-opacity=\"1\" /><path clip-path=\"url(#clip960)\" d=\"M 0 0 M1738.3 1512.56 L1760.52 1512.56 L1760.52 1514.55 L1747.98 1547.12 L1743.09 1547.12 L1754.9 1516.5 L1738.3 1516.5 L1738.3 1512.56 Z\" fill=\"#000000\" fill-rule=\"evenodd\" fill-opacity=\"1\" /><path clip-path=\"url(#clip960)\" d=\"M 0 0 M1765.59 1541.24 L1770.48 1541.24 L1770.48 1547.12 L1765.59 1547.12 L1765.59 1541.24 Z\" fill=\"#000000\" fill-rule=\"evenodd\" fill-opacity=\"1\" /><path clip-path=\"url(#clip960)\" d=\"M 0 0 M1775.59 1512.56 L1793.95 1512.56 L1793.95 1516.5 L1779.88 1516.5 L1779.88 1524.97 Q1780.89 1524.62 1781.91 1524.46 Q1782.93 1524.27 1783.95 1524.27 Q1789.74 1524.27 1793.12 1527.44 Q1796.5 1530.62 1796.5 1536.03 Q1796.5 1541.61 1793.02 1544.71 Q1789.55 1547.79 1783.23 1547.79 Q1781.06 1547.79 1778.79 1547.42 Q1776.54 1547.05 1774.13 1546.31 L1774.13 1541.61 Q1776.22 1542.74 1778.44 1543.3 Q1780.66 1543.86 1783.14 1543.86 Q1787.14 1543.86 1789.48 1541.75 Q1791.82 1539.64 1791.82 1536.03 Q1791.82 1532.42 1789.48 1530.31 Q1787.14 1528.21 1783.14 1528.21 Q1781.26 1528.21 1779.39 1528.62 Q1777.54 1529.04 1775.59 1529.92 L1775.59 1512.56 Z\" fill=\"#000000\" fill-rule=\"evenodd\" fill-opacity=\"1\" /><path clip-path=\"url(#clip960)\" d=\"M 0 0 M2248.43 1543.18 L2256.07 1543.18 L2256.07 1516.82 L2247.76 1518.49 L2247.76 1514.23 L2256.02 1512.56 L2260.7 1512.56 L2260.7 1543.18 L2268.34 1543.18 L2268.34 1547.12 L2248.43 1547.12 L2248.43 1543.18 Z\" fill=\"#000000\" fill-rule=\"evenodd\" fill-opacity=\"1\" /><path clip-path=\"url(#clip960)\" d=\"M 0 0 M2283.41 1515.64 Q2279.8 1515.64 2277.97 1519.2 Q2276.16 1522.75 2276.16 1529.87 Q2276.16 1536.98 2277.97 1540.55 Q2279.8 1544.09 2283.41 1544.09 Q2287.04 1544.09 2288.85 1540.55 Q2290.68 1536.98 2290.68 1529.87 Q2290.68 1522.75 2288.85 1519.2 Q2287.04 1515.64 2283.41 1515.64 M2283.41 1511.93 Q2289.22 1511.93 2292.27 1516.54 Q2295.35 1521.12 2295.35 1529.87 Q2295.35 1538.6 2292.27 1543.21 Q2289.22 1547.79 2283.41 1547.79 Q2277.6 1547.79 2274.52 1543.21 Q2271.46 1538.6 2271.46 1529.87 Q2271.46 1521.12 2274.52 1516.54 Q2277.6 1511.93 2283.41 1511.93 Z\" fill=\"#000000\" fill-rule=\"evenodd\" fill-opacity=\"1\" /><path clip-path=\"url(#clip960)\" d=\"M 0 0 M2300.42 1541.24 L2305.31 1541.24 L2305.31 1547.12 L2300.42 1547.12 L2300.42 1541.24 Z\" fill=\"#000000\" fill-rule=\"evenodd\" fill-opacity=\"1\" /><path clip-path=\"url(#clip960)\" d=\"M 0 0 M2320.37 1515.64 Q2316.76 1515.64 2314.93 1519.2 Q2313.13 1522.75 2313.13 1529.87 Q2313.13 1536.98 2314.93 1540.55 Q2316.76 1544.09 2320.37 1544.09 Q2324.01 1544.09 2325.81 1540.55 Q2327.64 1536.98 2327.64 1529.87 Q2327.64 1522.75 2325.81 1519.2 Q2324.01 1515.64 2320.37 1515.64 M2320.37 1511.93 Q2326.18 1511.93 2329.24 1516.54 Q2332.32 1521.12 2332.32 1529.87 Q2332.32 1538.6 2329.24 1543.21 Q2326.18 1547.79 2320.37 1547.79 Q2314.56 1547.79 2311.49 1543.21 Q2308.43 1538.6 2308.43 1529.87 Q2308.43 1521.12 2311.49 1516.54 Q2314.56 1511.93 2320.37 1511.93 Z\" fill=\"#000000\" fill-rule=\"evenodd\" fill-opacity=\"1\" /><polyline clip-path=\"url(#clip962)\" style=\"stroke:#000000; stroke-width:2; stroke-opacity:0.1; fill:none\" points=\"\n",
       "  136.76,1309.94 2352.76,1309.94 \n",
       "  \"/>\n",
       "<polyline clip-path=\"url(#clip962)\" style=\"stroke:#000000; stroke-width:2; stroke-opacity:0.1; fill:none\" points=\"\n",
       "  136.76,1083.65 2352.76,1083.65 \n",
       "  \"/>\n",
       "<polyline clip-path=\"url(#clip962)\" style=\"stroke:#000000; stroke-width:2; stroke-opacity:0.1; fill:none\" points=\"\n",
       "  136.76,857.362 2352.76,857.362 \n",
       "  \"/>\n",
       "<polyline clip-path=\"url(#clip962)\" style=\"stroke:#000000; stroke-width:2; stroke-opacity:0.1; fill:none\" points=\"\n",
       "  136.76,631.072 2352.76,631.072 \n",
       "  \"/>\n",
       "<polyline clip-path=\"url(#clip962)\" style=\"stroke:#000000; stroke-width:2; stroke-opacity:0.1; fill:none\" points=\"\n",
       "  136.76,404.782 2352.76,404.782 \n",
       "  \"/>\n",
       "<polyline clip-path=\"url(#clip962)\" style=\"stroke:#000000; stroke-width:2; stroke-opacity:0.1; fill:none\" points=\"\n",
       "  136.76,178.492 2352.76,178.492 \n",
       "  \"/>\n",
       "<polyline clip-path=\"url(#clip960)\" style=\"stroke:#000000; stroke-width:4; stroke-opacity:1; fill:none\" points=\"\n",
       "  136.76,1486.45 136.76,47.2441 \n",
       "  \"/>\n",
       "<polyline clip-path=\"url(#clip960)\" style=\"stroke:#000000; stroke-width:4; stroke-opacity:1; fill:none\" points=\"\n",
       "  136.76,1309.94 163.352,1309.94 \n",
       "  \"/>\n",
       "<polyline clip-path=\"url(#clip960)\" style=\"stroke:#000000; stroke-width:4; stroke-opacity:1; fill:none\" points=\"\n",
       "  136.76,1083.65 163.352,1083.65 \n",
       "  \"/>\n",
       "<polyline clip-path=\"url(#clip960)\" style=\"stroke:#000000; stroke-width:4; stroke-opacity:1; fill:none\" points=\"\n",
       "  136.76,857.362 163.352,857.362 \n",
       "  \"/>\n",
       "<polyline clip-path=\"url(#clip960)\" style=\"stroke:#000000; stroke-width:4; stroke-opacity:1; fill:none\" points=\"\n",
       "  136.76,631.072 163.352,631.072 \n",
       "  \"/>\n",
       "<polyline clip-path=\"url(#clip960)\" style=\"stroke:#000000; stroke-width:4; stroke-opacity:1; fill:none\" points=\"\n",
       "  136.76,404.782 163.352,404.782 \n",
       "  \"/>\n",
       "<polyline clip-path=\"url(#clip960)\" style=\"stroke:#000000; stroke-width:4; stroke-opacity:1; fill:none\" points=\"\n",
       "  136.76,178.492 163.352,178.492 \n",
       "  \"/>\n",
       "<path clip-path=\"url(#clip960)\" d=\"M 0 0 M79.8577 1292.66 L98.2141 1292.66 L98.2141 1296.6 L84.1401 1296.6 L84.1401 1305.07 Q85.1586 1304.72 86.1771 1304.56 Q87.1956 1304.37 88.2141 1304.37 Q94.0012 1304.37 97.3808 1307.55 Q100.76 1310.72 100.76 1316.13 Q100.76 1321.71 97.2882 1324.81 Q93.816 1327.89 87.4966 1327.89 Q85.3206 1327.89 83.0521 1327.52 Q80.8068 1327.15 78.3994 1326.41 L78.3994 1321.71 Q80.4827 1322.85 82.7049 1323.4 Q84.9271 1323.96 87.404 1323.96 Q91.4086 1323.96 93.7465 1321.85 Q96.0845 1319.74 96.0845 1316.13 Q96.0845 1312.52 93.7465 1310.42 Q91.4086 1308.31 87.404 1308.31 Q85.529 1308.31 83.654 1308.73 Q81.8021 1309.14 79.8577 1310.02 L79.8577 1292.66 Z\" fill=\"#000000\" fill-rule=\"evenodd\" fill-opacity=\"1\" /><path clip-path=\"url(#clip960)\" d=\"M 0 0 M53.8393 1097 L61.4782 1097 L61.4782 1070.63 L53.168 1072.3 L53.168 1068.04 L61.4319 1066.37 L66.1078 1066.37 L66.1078 1097 L73.7466 1097 L73.7466 1100.93 L53.8393 1100.93 L53.8393 1097 Z\" fill=\"#000000\" fill-rule=\"evenodd\" fill-opacity=\"1\" /><path clip-path=\"url(#clip960)\" d=\"M 0 0 M88.816 1069.45 Q85.2049 1069.45 83.3762 1073.02 Q81.5707 1076.56 81.5707 1083.69 Q81.5707 1090.79 83.3762 1094.36 Q85.2049 1097.9 88.816 1097.9 Q92.4502 1097.9 94.2558 1094.36 Q96.0845 1090.79 96.0845 1083.69 Q96.0845 1076.56 94.2558 1073.02 Q92.4502 1069.45 88.816 1069.45 M88.816 1065.75 Q94.6262 1065.75 97.6817 1070.35 Q100.76 1074.94 100.76 1083.69 Q100.76 1092.41 97.6817 1097.02 Q94.6262 1101.6 88.816 1101.6 Q83.0058 1101.6 79.9272 1097.02 Q76.8716 1092.41 76.8716 1083.69 Q76.8716 1074.94 79.9272 1070.35 Q83.0058 1065.75 88.816 1065.75 Z\" fill=\"#000000\" fill-rule=\"evenodd\" fill-opacity=\"1\" /><path clip-path=\"url(#clip960)\" d=\"M 0 0 M54.8347 870.707 L62.4735 870.707 L62.4735 844.341 L54.1634 846.008 L54.1634 841.749 L62.4272 840.082 L67.1032 840.082 L67.1032 870.707 L74.742 870.707 L74.742 874.642 L54.8347 874.642 L54.8347 870.707 Z\" fill=\"#000000\" fill-rule=\"evenodd\" fill-opacity=\"1\" /><path clip-path=\"url(#clip960)\" d=\"M 0 0 M79.8577 840.082 L98.2141 840.082 L98.2141 844.017 L84.1401 844.017 L84.1401 852.489 Q85.1586 852.142 86.1771 851.98 Q87.1956 851.795 88.2141 851.795 Q94.0012 851.795 97.3808 854.966 Q100.76 858.137 100.76 863.554 Q100.76 869.133 97.2882 872.235 Q93.816 875.313 87.4966 875.313 Q85.3206 875.313 83.0521 874.943 Q80.8068 874.573 78.3994 873.832 L78.3994 869.133 Q80.4827 870.267 82.7049 870.823 Q84.9271 871.378 87.404 871.378 Q91.4086 871.378 93.7465 869.272 Q96.0845 867.165 96.0845 863.554 Q96.0845 859.943 93.7465 857.836 Q91.4086 855.73 87.404 855.73 Q85.529 855.73 83.654 856.147 Q81.8021 856.563 79.8577 857.443 L79.8577 840.082 Z\" fill=\"#000000\" fill-rule=\"evenodd\" fill-opacity=\"1\" /><path clip-path=\"url(#clip960)\" d=\"M 0 0 M57.4273 644.417 L73.7466 644.417 L73.7466 648.352 L51.8023 648.352 L51.8023 644.417 Q54.4643 641.662 59.0476 637.033 Q63.6541 632.38 64.8346 631.037 Q67.08 628.514 67.9596 626.778 Q68.8624 625.019 68.8624 623.329 Q68.8624 620.574 66.918 618.838 Q64.9967 617.102 61.8948 617.102 Q59.6958 617.102 57.2421 617.866 Q54.8115 618.63 52.0338 620.181 L52.0338 615.459 Q54.8578 614.324 57.3115 613.746 Q59.7652 613.167 61.8023 613.167 Q67.1726 613.167 70.367 615.852 Q73.5614 618.537 73.5614 623.028 Q73.5614 625.158 72.7513 627.079 Q71.9642 628.977 69.8578 631.57 Q69.2791 632.241 66.1772 635.459 Q63.0754 638.653 57.4273 644.417 Z\" fill=\"#000000\" fill-rule=\"evenodd\" fill-opacity=\"1\" /><path clip-path=\"url(#clip960)\" d=\"M 0 0 M88.816 616.871 Q85.2049 616.871 83.3762 620.436 Q81.5707 623.977 81.5707 631.107 Q81.5707 638.213 83.3762 641.778 Q85.2049 645.32 88.816 645.32 Q92.4502 645.32 94.2558 641.778 Q96.0845 638.213 96.0845 631.107 Q96.0845 623.977 94.2558 620.436 Q92.4502 616.871 88.816 616.871 M88.816 613.167 Q94.6262 613.167 97.6817 617.774 Q100.76 622.357 100.76 631.107 Q100.76 639.834 97.6817 644.44 Q94.6262 649.023 88.816 649.023 Q83.0058 649.023 79.9272 644.44 Q76.8716 639.834 76.8716 631.107 Q76.8716 622.357 79.9272 617.774 Q83.0058 613.167 88.816 613.167 Z\" fill=\"#000000\" fill-rule=\"evenodd\" fill-opacity=\"1\" /><path clip-path=\"url(#clip960)\" d=\"M 0 0 M58.4226 418.127 L74.742 418.127 L74.742 422.062 L52.7977 422.062 L52.7977 418.127 Q55.4597 415.372 60.043 410.743 Q64.6495 406.09 65.83 404.747 Q68.0754 402.224 68.955 400.488 Q69.8578 398.729 69.8578 397.039 Q69.8578 394.285 67.9133 392.548 Q65.992 390.812 62.8902 390.812 Q60.6911 390.812 58.2375 391.576 Q55.8069 392.34 53.0292 393.891 L53.0292 389.169 Q55.8532 388.035 58.3069 387.456 Q60.7606 386.877 62.7976 386.877 Q68.168 386.877 71.3624 389.562 Q74.5568 392.247 74.5568 396.738 Q74.5568 398.868 73.7466 400.789 Q72.9596 402.687 70.8531 405.28 Q70.2744 405.951 67.1726 409.169 Q64.0708 412.363 58.4226 418.127 Z\" fill=\"#000000\" fill-rule=\"evenodd\" fill-opacity=\"1\" /><path clip-path=\"url(#clip960)\" d=\"M 0 0 M79.8577 387.502 L98.2141 387.502 L98.2141 391.437 L84.1401 391.437 L84.1401 399.909 Q85.1586 399.562 86.1771 399.4 Q87.1956 399.215 88.2141 399.215 Q94.0012 399.215 97.3808 402.386 Q100.76 405.558 100.76 410.974 Q100.76 416.553 97.2882 419.655 Q93.816 422.733 87.4966 422.733 Q85.3206 422.733 83.0521 422.363 Q80.8068 421.993 78.3994 421.252 L78.3994 416.553 Q80.4827 417.687 82.7049 418.243 Q84.9271 418.798 87.404 418.798 Q91.4086 418.798 93.7465 416.692 Q96.0845 414.585 96.0845 410.974 Q96.0845 407.363 93.7465 405.257 Q91.4086 403.15 87.404 403.15 Q85.529 403.15 83.654 403.567 Q81.8021 403.984 79.8577 404.863 L79.8577 387.502 Z\" fill=\"#000000\" fill-rule=\"evenodd\" fill-opacity=\"1\" /><path clip-path=\"url(#clip960)\" d=\"M 0 0 M66.617 177.138 Q69.9735 177.856 71.8485 180.124 Q73.7466 182.393 73.7466 185.726 Q73.7466 190.842 70.2281 193.643 Q66.7096 196.444 60.2282 196.444 Q58.0523 196.444 55.7375 196.004 Q53.4458 195.587 50.9921 194.731 L50.9921 190.217 Q52.9366 191.351 55.2514 191.93 Q57.5662 192.508 60.0893 192.508 Q64.4874 192.508 66.7791 190.772 Q69.0939 189.036 69.0939 185.726 Q69.0939 182.67 66.9411 180.958 Q64.8115 179.221 60.9921 179.221 L56.9643 179.221 L56.9643 175.379 L61.1773 175.379 Q64.6263 175.379 66.455 174.013 Q68.2837 172.624 68.2837 170.032 Q68.2837 167.37 66.3856 165.958 Q64.5106 164.522 60.9921 164.522 Q59.0708 164.522 56.8717 164.939 Q54.6727 165.356 52.0338 166.235 L52.0338 162.069 Q54.6958 161.328 57.0106 160.958 Q59.3486 160.587 61.4087 160.587 Q66.7328 160.587 69.8346 163.018 Q72.9365 165.425 72.9365 169.546 Q72.9365 172.416 71.2929 174.407 Q69.6494 176.374 66.617 177.138 Z\" fill=\"#000000\" fill-rule=\"evenodd\" fill-opacity=\"1\" /><path clip-path=\"url(#clip960)\" d=\"M 0 0 M88.816 164.291 Q85.2049 164.291 83.3762 167.856 Q81.5707 171.397 81.5707 178.527 Q81.5707 185.633 83.3762 189.198 Q85.2049 192.74 88.816 192.74 Q92.4502 192.74 94.2558 189.198 Q96.0845 185.633 96.0845 178.527 Q96.0845 171.397 94.2558 167.856 Q92.4502 164.291 88.816 164.291 M88.816 160.587 Q94.6262 160.587 97.6817 165.194 Q100.76 169.777 100.76 178.527 Q100.76 187.254 97.6817 191.86 Q94.6262 196.444 88.816 196.444 Q83.0058 196.444 79.9272 191.86 Q76.8716 187.254 76.8716 178.527 Q76.8716 169.777 79.9272 165.194 Q83.0058 160.587 88.816 160.587 Z\" fill=\"#000000\" fill-rule=\"evenodd\" fill-opacity=\"1\" /><polyline clip-path=\"url(#clip962)\" style=\"stroke:#009af9; stroke-width:4; stroke-opacity:1; fill:none\" points=\"\n",
       "  199.477,1445.72 408.533,1309.94 617.59,1174.17 826.646,1038.39 1035.7,902.62 1244.76,766.846 1453.81,631.072 1662.87,495.298 1871.93,359.524 2080.98,223.75 \n",
       "  2290.04,87.9763 \n",
       "  \"/>\n",
       "<path clip-path=\"url(#clip960)\" d=\"\n",
       "M1981.65 216.178 L2278.89 216.178 L2278.89 95.2176 L1981.65 95.2176  Z\n",
       "  \" fill=\"#ffffff\" fill-rule=\"evenodd\" fill-opacity=\"1\"/>\n",
       "<polyline clip-path=\"url(#clip960)\" style=\"stroke:#000000; stroke-width:4; stroke-opacity:1; fill:none\" points=\"\n",
       "  1981.65,216.178 2278.89,216.178 2278.89,95.2176 1981.65,95.2176 1981.65,216.178 \n",
       "  \"/>\n",
       "<polyline clip-path=\"url(#clip960)\" style=\"stroke:#009af9; stroke-width:4; stroke-opacity:1; fill:none\" points=\"\n",
       "  2006.27,155.698 2154,155.698 \n",
       "  \"/>\n",
       "<path clip-path=\"url(#clip960)\" d=\"M 0 0 M2192.47 175.385 Q2190.66 180.015 2188.95 181.427 Q2187.24 182.839 2184.37 182.839 L2180.96 182.839 L2180.96 179.274 L2183.46 179.274 Q2185.22 179.274 2186.2 178.44 Q2187.17 177.607 2188.35 174.505 L2189.11 172.561 L2178.63 147.052 L2183.14 147.052 L2191.24 167.329 L2199.34 147.052 L2203.86 147.052 L2192.47 175.385 Z\" fill=\"#000000\" fill-rule=\"evenodd\" fill-opacity=\"1\" /><path clip-path=\"url(#clip960)\" d=\"M 0 0 M2209.74 169.042 L2217.38 169.042 L2217.38 142.677 L2209.07 144.343 L2209.07 140.084 L2217.33 138.418 L2222.01 138.418 L2222.01 169.042 L2229.65 169.042 L2229.65 172.978 L2209.74 172.978 L2209.74 169.042 Z\" fill=\"#000000\" fill-rule=\"evenodd\" fill-opacity=\"1\" /></svg>\n"
      ]
     },
     "execution_count": 124,
     "metadata": {},
     "output_type": "execute_result"
    }
   ],
   "source": [
    "plot(x,y)"
   ]
  },
  {
   "cell_type": "markdown",
   "metadata": {},
   "source": [
    "To plot just points, use the `scatter` function"
   ]
  },
  {
   "cell_type": "code",
   "execution_count": 125,
   "metadata": {},
   "outputs": [
    {
     "data": {
      "image/svg+xml": [
       "<?xml version=\"1.0\" encoding=\"utf-8\"?>\n",
       "<svg xmlns=\"http://www.w3.org/2000/svg\" xmlns:xlink=\"http://www.w3.org/1999/xlink\" width=\"600\" height=\"400\" viewBox=\"0 0 2400 1600\">\n",
       "<defs>\n",
       "  <clipPath id=\"clip000\">\n",
       "    <rect x=\"0\" y=\"0\" width=\"2400\" height=\"1600\"/>\n",
       "  </clipPath>\n",
       "</defs>\n",
       "<path clip-path=\"url(#clip000)\" d=\"\n",
       "M0 1600 L2400 1600 L2400 0 L0 0  Z\n",
       "  \" fill=\"#ffffff\" fill-rule=\"evenodd\" fill-opacity=\"1\"/>\n",
       "<defs>\n",
       "  <clipPath id=\"clip001\">\n",
       "    <rect x=\"480\" y=\"0\" width=\"1681\" height=\"1600\"/>\n",
       "  </clipPath>\n",
       "</defs>\n",
       "<path clip-path=\"url(#clip000)\" d=\"\n",
       "M136.76 1486.45 L2352.76 1486.45 L2352.76 47.2441 L136.76 47.2441  Z\n",
       "  \" fill=\"#ffffff\" fill-rule=\"evenodd\" fill-opacity=\"1\"/>\n",
       "<defs>\n",
       "  <clipPath id=\"clip002\">\n",
       "    <rect x=\"136\" y=\"47\" width=\"2217\" height=\"1440\"/>\n",
       "  </clipPath>\n",
       "</defs>\n",
       "<polyline clip-path=\"url(#clip002)\" style=\"stroke:#000000; stroke-width:2; stroke-opacity:0.1; fill:none\" points=\"\n",
       "  199.477,1486.45 199.477,47.2441 \n",
       "  \"/>\n",
       "<polyline clip-path=\"url(#clip002)\" style=\"stroke:#000000; stroke-width:2; stroke-opacity:0.1; fill:none\" points=\"\n",
       "  722.118,1486.45 722.118,47.2441 \n",
       "  \"/>\n",
       "<polyline clip-path=\"url(#clip002)\" style=\"stroke:#000000; stroke-width:2; stroke-opacity:0.1; fill:none\" points=\"\n",
       "  1244.76,1486.45 1244.76,47.2441 \n",
       "  \"/>\n",
       "<polyline clip-path=\"url(#clip002)\" style=\"stroke:#000000; stroke-width:2; stroke-opacity:0.1; fill:none\" points=\"\n",
       "  1767.4,1486.45 1767.4,47.2441 \n",
       "  \"/>\n",
       "<polyline clip-path=\"url(#clip002)\" style=\"stroke:#000000; stroke-width:2; stroke-opacity:0.1; fill:none\" points=\"\n",
       "  2290.04,1486.45 2290.04,47.2441 \n",
       "  \"/>\n",
       "<polyline clip-path=\"url(#clip000)\" style=\"stroke:#000000; stroke-width:4; stroke-opacity:1; fill:none\" points=\"\n",
       "  136.76,1486.45 2352.76,1486.45 \n",
       "  \"/>\n",
       "<polyline clip-path=\"url(#clip000)\" style=\"stroke:#000000; stroke-width:4; stroke-opacity:1; fill:none\" points=\"\n",
       "  199.477,1486.45 199.477,1469.18 \n",
       "  \"/>\n",
       "<polyline clip-path=\"url(#clip000)\" style=\"stroke:#000000; stroke-width:4; stroke-opacity:1; fill:none\" points=\"\n",
       "  722.118,1486.45 722.118,1469.18 \n",
       "  \"/>\n",
       "<polyline clip-path=\"url(#clip000)\" style=\"stroke:#000000; stroke-width:4; stroke-opacity:1; fill:none\" points=\"\n",
       "  1244.76,1486.45 1244.76,1469.18 \n",
       "  \"/>\n",
       "<polyline clip-path=\"url(#clip000)\" style=\"stroke:#000000; stroke-width:4; stroke-opacity:1; fill:none\" points=\"\n",
       "  1767.4,1486.45 1767.4,1469.18 \n",
       "  \"/>\n",
       "<polyline clip-path=\"url(#clip000)\" style=\"stroke:#000000; stroke-width:4; stroke-opacity:1; fill:none\" points=\"\n",
       "  2290.04,1486.45 2290.04,1469.18 \n",
       "  \"/>\n",
       "<path clip-path=\"url(#clip000)\" d=\"M 0 0 M180.994 1515.64 Q177.382 1515.64 175.554 1519.2 Q173.748 1522.75 173.748 1529.87 Q173.748 1536.98 175.554 1540.55 Q177.382 1544.09 180.994 1544.09 Q184.628 1544.09 186.433 1540.55 Q188.262 1536.98 188.262 1529.87 Q188.262 1522.75 186.433 1519.2 Q184.628 1515.64 180.994 1515.64 M180.994 1511.93 Q186.804 1511.93 189.859 1516.54 Q192.938 1521.12 192.938 1529.87 Q192.938 1538.6 189.859 1543.21 Q186.804 1547.79 180.994 1547.79 Q175.183 1547.79 172.105 1543.21 Q169.049 1538.6 169.049 1529.87 Q169.049 1521.12 172.105 1516.54 Q175.183 1511.93 180.994 1511.93 Z\" fill=\"#000000\" fill-rule=\"evenodd\" fill-opacity=\"1\" /><path clip-path=\"url(#clip000)\" d=\"M 0 0 M198.007 1541.24 L202.892 1541.24 L202.892 1547.12 L198.007 1547.12 L198.007 1541.24 Z\" fill=\"#000000\" fill-rule=\"evenodd\" fill-opacity=\"1\" /><path clip-path=\"url(#clip000)\" d=\"M 0 0 M217.961 1515.64 Q214.35 1515.64 212.521 1519.2 Q210.716 1522.75 210.716 1529.87 Q210.716 1536.98 212.521 1540.55 Q214.35 1544.09 217.961 1544.09 Q221.595 1544.09 223.401 1540.55 Q225.229 1536.98 225.229 1529.87 Q225.229 1522.75 223.401 1519.2 Q221.595 1515.64 217.961 1515.64 M217.961 1511.93 Q223.771 1511.93 226.827 1516.54 Q229.905 1521.12 229.905 1529.87 Q229.905 1538.6 226.827 1543.21 Q223.771 1547.79 217.961 1547.79 Q212.151 1547.79 209.072 1543.21 Q206.017 1538.6 206.017 1529.87 Q206.017 1521.12 209.072 1516.54 Q212.151 1511.93 217.961 1511.93 Z\" fill=\"#000000\" fill-rule=\"evenodd\" fill-opacity=\"1\" /><path clip-path=\"url(#clip000)\" d=\"M 0 0 M698.784 1543.18 L715.104 1543.18 L715.104 1547.12 L693.16 1547.12 L693.16 1543.18 Q695.822 1540.43 700.405 1535.8 Q705.011 1531.15 706.192 1529.81 Q708.437 1527.28 709.317 1525.55 Q710.22 1523.79 710.22 1522.1 Q710.22 1519.34 708.275 1517.61 Q706.354 1515.87 703.252 1515.87 Q701.053 1515.87 698.599 1516.63 Q696.169 1517.4 693.391 1518.95 L693.391 1514.23 Q696.215 1513.09 698.669 1512.51 Q701.122 1511.93 703.159 1511.93 Q708.53 1511.93 711.724 1514.62 Q714.919 1517.31 714.919 1521.8 Q714.919 1523.93 714.108 1525.85 Q713.321 1527.74 711.215 1530.34 Q710.636 1531.01 707.534 1534.23 Q704.433 1537.42 698.784 1543.18 Z\" fill=\"#000000\" fill-rule=\"evenodd\" fill-opacity=\"1\" /><path clip-path=\"url(#clip000)\" d=\"M 0 0 M720.173 1541.24 L725.057 1541.24 L725.057 1547.12 L720.173 1547.12 L720.173 1541.24 Z\" fill=\"#000000\" fill-rule=\"evenodd\" fill-opacity=\"1\" /><path clip-path=\"url(#clip000)\" d=\"M 0 0 M730.173 1512.56 L748.53 1512.56 L748.53 1516.5 L734.456 1516.5 L734.456 1524.97 Q735.474 1524.62 736.493 1524.46 Q737.511 1524.27 738.53 1524.27 Q744.317 1524.27 747.696 1527.44 Q751.076 1530.62 751.076 1536.03 Q751.076 1541.61 747.604 1544.71 Q744.131 1547.79 737.812 1547.79 Q735.636 1547.79 733.368 1547.42 Q731.122 1547.05 728.715 1546.31 L728.715 1541.61 Q730.798 1542.74 733.02 1543.3 Q735.243 1543.86 737.719 1543.86 Q741.724 1543.86 744.062 1541.75 Q746.4 1539.64 746.4 1536.03 Q746.4 1532.42 744.062 1530.31 Q741.724 1528.21 737.719 1528.21 Q735.844 1528.21 733.969 1528.62 Q732.118 1529.04 730.173 1529.92 L730.173 1512.56 Z\" fill=\"#000000\" fill-rule=\"evenodd\" fill-opacity=\"1\" /><path clip-path=\"url(#clip000)\" d=\"M 0 0 M1216.55 1512.56 L1234.91 1512.56 L1234.91 1516.5 L1220.83 1516.5 L1220.83 1524.97 Q1221.85 1524.62 1222.87 1524.46 Q1223.89 1524.27 1224.91 1524.27 Q1230.7 1524.27 1234.08 1527.44 Q1237.45 1530.62 1237.45 1536.03 Q1237.45 1541.61 1233.98 1544.71 Q1230.51 1547.79 1224.19 1547.79 Q1222.02 1547.79 1219.75 1547.42 Q1217.5 1547.05 1215.09 1546.31 L1215.09 1541.61 Q1217.18 1542.74 1219.4 1543.3 Q1221.62 1543.86 1224.1 1543.86 Q1228.1 1543.86 1230.44 1541.75 Q1232.78 1539.64 1232.78 1536.03 Q1232.78 1532.42 1230.44 1530.31 Q1228.1 1528.21 1224.1 1528.21 Q1222.22 1528.21 1220.35 1528.62 Q1218.5 1529.04 1216.55 1529.92 L1216.55 1512.56 Z\" fill=\"#000000\" fill-rule=\"evenodd\" fill-opacity=\"1\" /><path clip-path=\"url(#clip000)\" d=\"M 0 0 M1242.52 1541.24 L1247.41 1541.24 L1247.41 1547.12 L1242.52 1547.12 L1242.52 1541.24 Z\" fill=\"#000000\" fill-rule=\"evenodd\" fill-opacity=\"1\" /><path clip-path=\"url(#clip000)\" d=\"M 0 0 M1262.48 1515.64 Q1258.87 1515.64 1257.04 1519.2 Q1255.23 1522.75 1255.23 1529.87 Q1255.23 1536.98 1257.04 1540.55 Q1258.87 1544.09 1262.48 1544.09 Q1266.11 1544.09 1267.92 1540.55 Q1269.75 1536.98 1269.75 1529.87 Q1269.75 1522.75 1267.92 1519.2 Q1266.11 1515.64 1262.48 1515.64 M1262.48 1511.93 Q1268.29 1511.93 1271.34 1516.54 Q1274.42 1521.12 1274.42 1529.87 Q1274.42 1538.6 1271.34 1543.21 Q1268.29 1547.79 1262.48 1547.79 Q1256.67 1547.79 1253.59 1543.21 Q1250.53 1538.6 1250.53 1529.87 Q1250.53 1521.12 1253.59 1516.54 Q1256.67 1511.93 1262.48 1511.93 Z\" fill=\"#000000\" fill-rule=\"evenodd\" fill-opacity=\"1\" /><path clip-path=\"url(#clip000)\" d=\"M 0 0 M1738.3 1512.56 L1760.52 1512.56 L1760.52 1514.55 L1747.98 1547.12 L1743.09 1547.12 L1754.9 1516.5 L1738.3 1516.5 L1738.3 1512.56 Z\" fill=\"#000000\" fill-rule=\"evenodd\" fill-opacity=\"1\" /><path clip-path=\"url(#clip000)\" d=\"M 0 0 M1765.59 1541.24 L1770.48 1541.24 L1770.48 1547.12 L1765.59 1547.12 L1765.59 1541.24 Z\" fill=\"#000000\" fill-rule=\"evenodd\" fill-opacity=\"1\" /><path clip-path=\"url(#clip000)\" d=\"M 0 0 M1775.59 1512.56 L1793.95 1512.56 L1793.95 1516.5 L1779.88 1516.5 L1779.88 1524.97 Q1780.89 1524.62 1781.91 1524.46 Q1782.93 1524.27 1783.95 1524.27 Q1789.74 1524.27 1793.12 1527.44 Q1796.5 1530.62 1796.5 1536.03 Q1796.5 1541.61 1793.02 1544.71 Q1789.55 1547.79 1783.23 1547.79 Q1781.06 1547.79 1778.79 1547.42 Q1776.54 1547.05 1774.13 1546.31 L1774.13 1541.61 Q1776.22 1542.74 1778.44 1543.3 Q1780.66 1543.86 1783.14 1543.86 Q1787.14 1543.86 1789.48 1541.75 Q1791.82 1539.64 1791.82 1536.03 Q1791.82 1532.42 1789.48 1530.31 Q1787.14 1528.21 1783.14 1528.21 Q1781.26 1528.21 1779.39 1528.62 Q1777.54 1529.04 1775.59 1529.92 L1775.59 1512.56 Z\" fill=\"#000000\" fill-rule=\"evenodd\" fill-opacity=\"1\" /><path clip-path=\"url(#clip000)\" d=\"M 0 0 M2248.43 1543.18 L2256.07 1543.18 L2256.07 1516.82 L2247.76 1518.49 L2247.76 1514.23 L2256.02 1512.56 L2260.7 1512.56 L2260.7 1543.18 L2268.34 1543.18 L2268.34 1547.12 L2248.43 1547.12 L2248.43 1543.18 Z\" fill=\"#000000\" fill-rule=\"evenodd\" fill-opacity=\"1\" /><path clip-path=\"url(#clip000)\" d=\"M 0 0 M2283.41 1515.64 Q2279.8 1515.64 2277.97 1519.2 Q2276.16 1522.75 2276.16 1529.87 Q2276.16 1536.98 2277.97 1540.55 Q2279.8 1544.09 2283.41 1544.09 Q2287.04 1544.09 2288.85 1540.55 Q2290.68 1536.98 2290.68 1529.87 Q2290.68 1522.75 2288.85 1519.2 Q2287.04 1515.64 2283.41 1515.64 M2283.41 1511.93 Q2289.22 1511.93 2292.27 1516.54 Q2295.35 1521.12 2295.35 1529.87 Q2295.35 1538.6 2292.27 1543.21 Q2289.22 1547.79 2283.41 1547.79 Q2277.6 1547.79 2274.52 1543.21 Q2271.46 1538.6 2271.46 1529.87 Q2271.46 1521.12 2274.52 1516.54 Q2277.6 1511.93 2283.41 1511.93 Z\" fill=\"#000000\" fill-rule=\"evenodd\" fill-opacity=\"1\" /><path clip-path=\"url(#clip000)\" d=\"M 0 0 M2300.42 1541.24 L2305.31 1541.24 L2305.31 1547.12 L2300.42 1547.12 L2300.42 1541.24 Z\" fill=\"#000000\" fill-rule=\"evenodd\" fill-opacity=\"1\" /><path clip-path=\"url(#clip000)\" d=\"M 0 0 M2320.37 1515.64 Q2316.76 1515.64 2314.93 1519.2 Q2313.13 1522.75 2313.13 1529.87 Q2313.13 1536.98 2314.93 1540.55 Q2316.76 1544.09 2320.37 1544.09 Q2324.01 1544.09 2325.81 1540.55 Q2327.64 1536.98 2327.64 1529.87 Q2327.64 1522.75 2325.81 1519.2 Q2324.01 1515.64 2320.37 1515.64 M2320.37 1511.93 Q2326.18 1511.93 2329.24 1516.54 Q2332.32 1521.12 2332.32 1529.87 Q2332.32 1538.6 2329.24 1543.21 Q2326.18 1547.79 2320.37 1547.79 Q2314.56 1547.79 2311.49 1543.21 Q2308.43 1538.6 2308.43 1529.87 Q2308.43 1521.12 2311.49 1516.54 Q2314.56 1511.93 2320.37 1511.93 Z\" fill=\"#000000\" fill-rule=\"evenodd\" fill-opacity=\"1\" /><polyline clip-path=\"url(#clip002)\" style=\"stroke:#000000; stroke-width:2; stroke-opacity:0.1; fill:none\" points=\"\n",
       "  136.76,1309.94 2352.76,1309.94 \n",
       "  \"/>\n",
       "<polyline clip-path=\"url(#clip002)\" style=\"stroke:#000000; stroke-width:2; stroke-opacity:0.1; fill:none\" points=\"\n",
       "  136.76,1083.65 2352.76,1083.65 \n",
       "  \"/>\n",
       "<polyline clip-path=\"url(#clip002)\" style=\"stroke:#000000; stroke-width:2; stroke-opacity:0.1; fill:none\" points=\"\n",
       "  136.76,857.362 2352.76,857.362 \n",
       "  \"/>\n",
       "<polyline clip-path=\"url(#clip002)\" style=\"stroke:#000000; stroke-width:2; stroke-opacity:0.1; fill:none\" points=\"\n",
       "  136.76,631.072 2352.76,631.072 \n",
       "  \"/>\n",
       "<polyline clip-path=\"url(#clip002)\" style=\"stroke:#000000; stroke-width:2; stroke-opacity:0.1; fill:none\" points=\"\n",
       "  136.76,404.782 2352.76,404.782 \n",
       "  \"/>\n",
       "<polyline clip-path=\"url(#clip002)\" style=\"stroke:#000000; stroke-width:2; stroke-opacity:0.1; fill:none\" points=\"\n",
       "  136.76,178.492 2352.76,178.492 \n",
       "  \"/>\n",
       "<polyline clip-path=\"url(#clip000)\" style=\"stroke:#000000; stroke-width:4; stroke-opacity:1; fill:none\" points=\"\n",
       "  136.76,1486.45 136.76,47.2441 \n",
       "  \"/>\n",
       "<polyline clip-path=\"url(#clip000)\" style=\"stroke:#000000; stroke-width:4; stroke-opacity:1; fill:none\" points=\"\n",
       "  136.76,1309.94 163.352,1309.94 \n",
       "  \"/>\n",
       "<polyline clip-path=\"url(#clip000)\" style=\"stroke:#000000; stroke-width:4; stroke-opacity:1; fill:none\" points=\"\n",
       "  136.76,1083.65 163.352,1083.65 \n",
       "  \"/>\n",
       "<polyline clip-path=\"url(#clip000)\" style=\"stroke:#000000; stroke-width:4; stroke-opacity:1; fill:none\" points=\"\n",
       "  136.76,857.362 163.352,857.362 \n",
       "  \"/>\n",
       "<polyline clip-path=\"url(#clip000)\" style=\"stroke:#000000; stroke-width:4; stroke-opacity:1; fill:none\" points=\"\n",
       "  136.76,631.072 163.352,631.072 \n",
       "  \"/>\n",
       "<polyline clip-path=\"url(#clip000)\" style=\"stroke:#000000; stroke-width:4; stroke-opacity:1; fill:none\" points=\"\n",
       "  136.76,404.782 163.352,404.782 \n",
       "  \"/>\n",
       "<polyline clip-path=\"url(#clip000)\" style=\"stroke:#000000; stroke-width:4; stroke-opacity:1; fill:none\" points=\"\n",
       "  136.76,178.492 163.352,178.492 \n",
       "  \"/>\n",
       "<path clip-path=\"url(#clip000)\" d=\"M 0 0 M79.8577 1292.66 L98.2141 1292.66 L98.2141 1296.6 L84.1401 1296.6 L84.1401 1305.07 Q85.1586 1304.72 86.1771 1304.56 Q87.1956 1304.37 88.2141 1304.37 Q94.0012 1304.37 97.3808 1307.55 Q100.76 1310.72 100.76 1316.13 Q100.76 1321.71 97.2882 1324.81 Q93.816 1327.89 87.4966 1327.89 Q85.3206 1327.89 83.0521 1327.52 Q80.8068 1327.15 78.3994 1326.41 L78.3994 1321.71 Q80.4827 1322.85 82.7049 1323.4 Q84.9271 1323.96 87.404 1323.96 Q91.4086 1323.96 93.7465 1321.85 Q96.0845 1319.74 96.0845 1316.13 Q96.0845 1312.52 93.7465 1310.42 Q91.4086 1308.31 87.404 1308.31 Q85.529 1308.31 83.654 1308.73 Q81.8021 1309.14 79.8577 1310.02 L79.8577 1292.66 Z\" fill=\"#000000\" fill-rule=\"evenodd\" fill-opacity=\"1\" /><path clip-path=\"url(#clip000)\" d=\"M 0 0 M53.8393 1097 L61.4782 1097 L61.4782 1070.63 L53.168 1072.3 L53.168 1068.04 L61.4319 1066.37 L66.1078 1066.37 L66.1078 1097 L73.7466 1097 L73.7466 1100.93 L53.8393 1100.93 L53.8393 1097 Z\" fill=\"#000000\" fill-rule=\"evenodd\" fill-opacity=\"1\" /><path clip-path=\"url(#clip000)\" d=\"M 0 0 M88.816 1069.45 Q85.2049 1069.45 83.3762 1073.02 Q81.5707 1076.56 81.5707 1083.69 Q81.5707 1090.79 83.3762 1094.36 Q85.2049 1097.9 88.816 1097.9 Q92.4502 1097.9 94.2558 1094.36 Q96.0845 1090.79 96.0845 1083.69 Q96.0845 1076.56 94.2558 1073.02 Q92.4502 1069.45 88.816 1069.45 M88.816 1065.75 Q94.6262 1065.75 97.6817 1070.35 Q100.76 1074.94 100.76 1083.69 Q100.76 1092.41 97.6817 1097.02 Q94.6262 1101.6 88.816 1101.6 Q83.0058 1101.6 79.9272 1097.02 Q76.8716 1092.41 76.8716 1083.69 Q76.8716 1074.94 79.9272 1070.35 Q83.0058 1065.75 88.816 1065.75 Z\" fill=\"#000000\" fill-rule=\"evenodd\" fill-opacity=\"1\" /><path clip-path=\"url(#clip000)\" d=\"M 0 0 M54.8347 870.707 L62.4735 870.707 L62.4735 844.341 L54.1634 846.008 L54.1634 841.749 L62.4272 840.082 L67.1032 840.082 L67.1032 870.707 L74.742 870.707 L74.742 874.642 L54.8347 874.642 L54.8347 870.707 Z\" fill=\"#000000\" fill-rule=\"evenodd\" fill-opacity=\"1\" /><path clip-path=\"url(#clip000)\" d=\"M 0 0 M79.8577 840.082 L98.2141 840.082 L98.2141 844.017 L84.1401 844.017 L84.1401 852.489 Q85.1586 852.142 86.1771 851.98 Q87.1956 851.795 88.2141 851.795 Q94.0012 851.795 97.3808 854.966 Q100.76 858.137 100.76 863.554 Q100.76 869.133 97.2882 872.235 Q93.816 875.313 87.4966 875.313 Q85.3206 875.313 83.0521 874.943 Q80.8068 874.573 78.3994 873.832 L78.3994 869.133 Q80.4827 870.267 82.7049 870.823 Q84.9271 871.378 87.404 871.378 Q91.4086 871.378 93.7465 869.272 Q96.0845 867.165 96.0845 863.554 Q96.0845 859.943 93.7465 857.836 Q91.4086 855.73 87.404 855.73 Q85.529 855.73 83.654 856.147 Q81.8021 856.563 79.8577 857.443 L79.8577 840.082 Z\" fill=\"#000000\" fill-rule=\"evenodd\" fill-opacity=\"1\" /><path clip-path=\"url(#clip000)\" d=\"M 0 0 M57.4273 644.417 L73.7466 644.417 L73.7466 648.352 L51.8023 648.352 L51.8023 644.417 Q54.4643 641.662 59.0476 637.033 Q63.6541 632.38 64.8346 631.037 Q67.08 628.514 67.9596 626.778 Q68.8624 625.019 68.8624 623.329 Q68.8624 620.574 66.918 618.838 Q64.9967 617.102 61.8948 617.102 Q59.6958 617.102 57.2421 617.866 Q54.8115 618.63 52.0338 620.181 L52.0338 615.459 Q54.8578 614.324 57.3115 613.746 Q59.7652 613.167 61.8023 613.167 Q67.1726 613.167 70.367 615.852 Q73.5614 618.537 73.5614 623.028 Q73.5614 625.158 72.7513 627.079 Q71.9642 628.977 69.8578 631.57 Q69.2791 632.241 66.1772 635.459 Q63.0754 638.653 57.4273 644.417 Z\" fill=\"#000000\" fill-rule=\"evenodd\" fill-opacity=\"1\" /><path clip-path=\"url(#clip000)\" d=\"M 0 0 M88.816 616.871 Q85.2049 616.871 83.3762 620.436 Q81.5707 623.977 81.5707 631.107 Q81.5707 638.213 83.3762 641.778 Q85.2049 645.32 88.816 645.32 Q92.4502 645.32 94.2558 641.778 Q96.0845 638.213 96.0845 631.107 Q96.0845 623.977 94.2558 620.436 Q92.4502 616.871 88.816 616.871 M88.816 613.167 Q94.6262 613.167 97.6817 617.774 Q100.76 622.357 100.76 631.107 Q100.76 639.834 97.6817 644.44 Q94.6262 649.023 88.816 649.023 Q83.0058 649.023 79.9272 644.44 Q76.8716 639.834 76.8716 631.107 Q76.8716 622.357 79.9272 617.774 Q83.0058 613.167 88.816 613.167 Z\" fill=\"#000000\" fill-rule=\"evenodd\" fill-opacity=\"1\" /><path clip-path=\"url(#clip000)\" d=\"M 0 0 M58.4226 418.127 L74.742 418.127 L74.742 422.062 L52.7977 422.062 L52.7977 418.127 Q55.4597 415.372 60.043 410.743 Q64.6495 406.09 65.83 404.747 Q68.0754 402.224 68.955 400.488 Q69.8578 398.729 69.8578 397.039 Q69.8578 394.285 67.9133 392.548 Q65.992 390.812 62.8902 390.812 Q60.6911 390.812 58.2375 391.576 Q55.8069 392.34 53.0292 393.891 L53.0292 389.169 Q55.8532 388.035 58.3069 387.456 Q60.7606 386.877 62.7976 386.877 Q68.168 386.877 71.3624 389.562 Q74.5568 392.247 74.5568 396.738 Q74.5568 398.868 73.7466 400.789 Q72.9596 402.687 70.8531 405.28 Q70.2744 405.951 67.1726 409.169 Q64.0708 412.363 58.4226 418.127 Z\" fill=\"#000000\" fill-rule=\"evenodd\" fill-opacity=\"1\" /><path clip-path=\"url(#clip000)\" d=\"M 0 0 M79.8577 387.502 L98.2141 387.502 L98.2141 391.437 L84.1401 391.437 L84.1401 399.909 Q85.1586 399.562 86.1771 399.4 Q87.1956 399.215 88.2141 399.215 Q94.0012 399.215 97.3808 402.386 Q100.76 405.558 100.76 410.974 Q100.76 416.553 97.2882 419.655 Q93.816 422.733 87.4966 422.733 Q85.3206 422.733 83.0521 422.363 Q80.8068 421.993 78.3994 421.252 L78.3994 416.553 Q80.4827 417.687 82.7049 418.243 Q84.9271 418.798 87.404 418.798 Q91.4086 418.798 93.7465 416.692 Q96.0845 414.585 96.0845 410.974 Q96.0845 407.363 93.7465 405.257 Q91.4086 403.15 87.404 403.15 Q85.529 403.15 83.654 403.567 Q81.8021 403.984 79.8577 404.863 L79.8577 387.502 Z\" fill=\"#000000\" fill-rule=\"evenodd\" fill-opacity=\"1\" /><path clip-path=\"url(#clip000)\" d=\"M 0 0 M66.617 177.138 Q69.9735 177.856 71.8485 180.124 Q73.7466 182.393 73.7466 185.726 Q73.7466 190.842 70.2281 193.643 Q66.7096 196.444 60.2282 196.444 Q58.0523 196.444 55.7375 196.004 Q53.4458 195.587 50.9921 194.731 L50.9921 190.217 Q52.9366 191.351 55.2514 191.93 Q57.5662 192.508 60.0893 192.508 Q64.4874 192.508 66.7791 190.772 Q69.0939 189.036 69.0939 185.726 Q69.0939 182.67 66.9411 180.958 Q64.8115 179.221 60.9921 179.221 L56.9643 179.221 L56.9643 175.379 L61.1773 175.379 Q64.6263 175.379 66.455 174.013 Q68.2837 172.624 68.2837 170.032 Q68.2837 167.37 66.3856 165.958 Q64.5106 164.522 60.9921 164.522 Q59.0708 164.522 56.8717 164.939 Q54.6727 165.356 52.0338 166.235 L52.0338 162.069 Q54.6958 161.328 57.0106 160.958 Q59.3486 160.587 61.4087 160.587 Q66.7328 160.587 69.8346 163.018 Q72.9365 165.425 72.9365 169.546 Q72.9365 172.416 71.2929 174.407 Q69.6494 176.374 66.617 177.138 Z\" fill=\"#000000\" fill-rule=\"evenodd\" fill-opacity=\"1\" /><path clip-path=\"url(#clip000)\" d=\"M 0 0 M88.816 164.291 Q85.2049 164.291 83.3762 167.856 Q81.5707 171.397 81.5707 178.527 Q81.5707 185.633 83.3762 189.198 Q85.2049 192.74 88.816 192.74 Q92.4502 192.74 94.2558 189.198 Q96.0845 185.633 96.0845 178.527 Q96.0845 171.397 94.2558 167.856 Q92.4502 164.291 88.816 164.291 M88.816 160.587 Q94.6262 160.587 97.6817 165.194 Q100.76 169.777 100.76 178.527 Q100.76 187.254 97.6817 191.86 Q94.6262 196.444 88.816 196.444 Q83.0058 196.444 79.9272 191.86 Q76.8716 187.254 76.8716 178.527 Q76.8716 169.777 79.9272 165.194 Q83.0058 160.587 88.816 160.587 Z\" fill=\"#000000\" fill-rule=\"evenodd\" fill-opacity=\"1\" /><circle clip-path=\"url(#clip002)\" cx=\"199.477\" cy=\"1445.72\" r=\"14\" fill=\"#009af9\" fill-rule=\"evenodd\" fill-opacity=\"1\" stroke=\"#000000\" stroke-opacity=\"1\" stroke-width=\"3.2\"/>\n",
       "<circle clip-path=\"url(#clip002)\" cx=\"408.533\" cy=\"1309.94\" r=\"14\" fill=\"#009af9\" fill-rule=\"evenodd\" fill-opacity=\"1\" stroke=\"#000000\" stroke-opacity=\"1\" stroke-width=\"3.2\"/>\n",
       "<circle clip-path=\"url(#clip002)\" cx=\"617.59\" cy=\"1174.17\" r=\"14\" fill=\"#009af9\" fill-rule=\"evenodd\" fill-opacity=\"1\" stroke=\"#000000\" stroke-opacity=\"1\" stroke-width=\"3.2\"/>\n",
       "<circle clip-path=\"url(#clip002)\" cx=\"826.646\" cy=\"1038.39\" r=\"14\" fill=\"#009af9\" fill-rule=\"evenodd\" fill-opacity=\"1\" stroke=\"#000000\" stroke-opacity=\"1\" stroke-width=\"3.2\"/>\n",
       "<circle clip-path=\"url(#clip002)\" cx=\"1035.7\" cy=\"902.62\" r=\"14\" fill=\"#009af9\" fill-rule=\"evenodd\" fill-opacity=\"1\" stroke=\"#000000\" stroke-opacity=\"1\" stroke-width=\"3.2\"/>\n",
       "<circle clip-path=\"url(#clip002)\" cx=\"1244.76\" cy=\"766.846\" r=\"14\" fill=\"#009af9\" fill-rule=\"evenodd\" fill-opacity=\"1\" stroke=\"#000000\" stroke-opacity=\"1\" stroke-width=\"3.2\"/>\n",
       "<circle clip-path=\"url(#clip002)\" cx=\"1453.81\" cy=\"631.072\" r=\"14\" fill=\"#009af9\" fill-rule=\"evenodd\" fill-opacity=\"1\" stroke=\"#000000\" stroke-opacity=\"1\" stroke-width=\"3.2\"/>\n",
       "<circle clip-path=\"url(#clip002)\" cx=\"1662.87\" cy=\"495.298\" r=\"14\" fill=\"#009af9\" fill-rule=\"evenodd\" fill-opacity=\"1\" stroke=\"#000000\" stroke-opacity=\"1\" stroke-width=\"3.2\"/>\n",
       "<circle clip-path=\"url(#clip002)\" cx=\"1871.93\" cy=\"359.524\" r=\"14\" fill=\"#009af9\" fill-rule=\"evenodd\" fill-opacity=\"1\" stroke=\"#000000\" stroke-opacity=\"1\" stroke-width=\"3.2\"/>\n",
       "<circle clip-path=\"url(#clip002)\" cx=\"2080.98\" cy=\"223.75\" r=\"14\" fill=\"#009af9\" fill-rule=\"evenodd\" fill-opacity=\"1\" stroke=\"#000000\" stroke-opacity=\"1\" stroke-width=\"3.2\"/>\n",
       "<circle clip-path=\"url(#clip002)\" cx=\"2290.04\" cy=\"87.9763\" r=\"14\" fill=\"#009af9\" fill-rule=\"evenodd\" fill-opacity=\"1\" stroke=\"#000000\" stroke-opacity=\"1\" stroke-width=\"3.2\"/>\n",
       "<path clip-path=\"url(#clip000)\" d=\"\n",
       "M1981.65 216.178 L2278.89 216.178 L2278.89 95.2176 L1981.65 95.2176  Z\n",
       "  \" fill=\"#ffffff\" fill-rule=\"evenodd\" fill-opacity=\"1\"/>\n",
       "<polyline clip-path=\"url(#clip000)\" style=\"stroke:#000000; stroke-width:4; stroke-opacity:1; fill:none\" points=\"\n",
       "  1981.65,216.178 2278.89,216.178 2278.89,95.2176 1981.65,95.2176 1981.65,216.178 \n",
       "  \"/>\n",
       "<circle clip-path=\"url(#clip000)\" cx=\"2080.14\" cy=\"155.698\" r=\"23\" fill=\"#009af9\" fill-rule=\"evenodd\" fill-opacity=\"1\" stroke=\"#000000\" stroke-opacity=\"1\" stroke-width=\"5.12\"/>\n",
       "<path clip-path=\"url(#clip000)\" d=\"M 0 0 M2192.47 175.385 Q2190.66 180.015 2188.95 181.427 Q2187.24 182.839 2184.37 182.839 L2180.96 182.839 L2180.96 179.274 L2183.46 179.274 Q2185.22 179.274 2186.2 178.44 Q2187.17 177.607 2188.35 174.505 L2189.11 172.561 L2178.63 147.052 L2183.14 147.052 L2191.24 167.329 L2199.34 147.052 L2203.86 147.052 L2192.47 175.385 Z\" fill=\"#000000\" fill-rule=\"evenodd\" fill-opacity=\"1\" /><path clip-path=\"url(#clip000)\" d=\"M 0 0 M2209.74 169.042 L2217.38 169.042 L2217.38 142.677 L2209.07 144.343 L2209.07 140.084 L2217.33 138.418 L2222.01 138.418 L2222.01 169.042 L2229.65 169.042 L2229.65 172.978 L2209.74 172.978 L2209.74 169.042 Z\" fill=\"#000000\" fill-rule=\"evenodd\" fill-opacity=\"1\" /></svg>\n"
      ]
     },
     "execution_count": 125,
     "metadata": {},
     "output_type": "execute_result"
    }
   ],
   "source": [
    "scatter(x,y)"
   ]
  },
  {
   "cell_type": "code",
   "execution_count": null,
   "metadata": {},
   "outputs": [],
   "source": []
  }
 ],
 "metadata": {
  "kernelspec": {
   "display_name": "Julia 1.5.2",
   "language": "julia",
   "name": "julia-1.5"
  },
  "language_info": {
   "file_extension": ".jl",
   "mimetype": "application/julia",
   "name": "julia",
   "version": "1.5.2"
  }
 },
 "nbformat": 4,
 "nbformat_minor": 4
}
